{
 "cells": [
  {
   "cell_type": "markdown",
   "metadata": {},
   "source": [
    "11 .Given the data of a feature contributing to different classes\n",
    "\n",
    "https://drive.google.com/file/d/1mCjtYHiX--mMUjicuaP2gH3k-SnFxt8Y/view?usp=share_\n",
    "\n",
    "    a. Check whether the distribution of all the classes are the same or not.\n",
    "    b. Check for the equality of variance/\n",
    "    c. Which amount LDA and QDA would perform better on this data for classification and why.\n",
    "    d. Check the equality of mean for between all the classes.\n"
   ]
  },
  {
   "cell_type": "code",
   "execution_count": 1,
   "metadata": {},
   "outputs": [],
   "source": [
    "import pandas as pd\n",
    "from scipy import stats"
   ]
  },
  {
   "cell_type": "code",
   "execution_count": 2,
   "metadata": {},
   "outputs": [],
   "source": [
    "dataset = pd.read_csv('https://raw.githubusercontent.com/iamaakashpal/Placement-Assignment_Aakash_Pal/main/STATISTICS/data.csv')"
   ]
  },
  {
   "cell_type": "markdown",
   "metadata": {},
   "source": [
    "- a. Check whether the distribution of all the classes are the same or not."
   ]
  },
  {
   "cell_type": "code",
   "execution_count": 3,
   "metadata": {},
   "outputs": [],
   "source": [
    "before_bp = dataset[' Blood Pressure Before (mmHg)']\n",
    "after_bp = dataset[' Blood Pressure After (mmHg)']"
   ]
  },
  {
   "cell_type": "code",
   "execution_count": 4,
   "metadata": {},
   "outputs": [],
   "source": [
    "t_statistic, p_value = stats.ttest_rel(before_bp, after_bp)\n",
    "alpha = 0.05"
   ]
  },
  {
   "cell_type": "code",
   "execution_count": 5,
   "metadata": {},
   "outputs": [
    {
     "name": "stdout",
     "output_type": "stream",
     "text": [
      "The distributions of before and after blood pressure are not the same.\n"
     ]
    }
   ],
   "source": [
    "if p_value > alpha:\n",
    "    print(\"The distributions of before and after blood pressure are the same.\")\n",
    "else:\n",
    "    print(\"The distributions of before and after blood pressure are not the same.\")"
   ]
  },
  {
   "cell_type": "markdown",
   "metadata": {},
   "source": [
    "- b. Check for the equality of variance"
   ]
  },
  {
   "cell_type": "code",
   "execution_count": 6,
   "metadata": {},
   "outputs": [],
   "source": [
    "statistic, p_value = stats.levene(before_bp, after_bp)\n",
    "alpha = 0.05"
   ]
  },
  {
   "cell_type": "code",
   "execution_count": 7,
   "metadata": {},
   "outputs": [
    {
     "name": "stdout",
     "output_type": "stream",
     "text": [
      "The variances of before and after blood pressure are equal.\n"
     ]
    }
   ],
   "source": [
    "if p_value > alpha:\n",
    "    print(\"The variances of before and after blood pressure are equal.\")\n",
    "else:\n",
    "    print(\"The variances of before and after blood pressure are not equal.\")"
   ]
  },
  {
   "cell_type": "markdown",
   "metadata": {},
   "source": [
    "- c. Which amount LDA and QDA would perform better on this data for classification and why."
   ]
  },
  {
   "cell_type": "markdown",
   "metadata": {},
   "source": [
    "To determine whether Linear Discriminant Analysis (LDA) or Quadratic Discriminant Analysis (QDA) would perform better on this data for classification, we need to consider the assumptions and characteristics of each method.\n",
    "\n",
    "LDA and QDA are both supervised learning techniques used for classification. Here's a comparison of LDA and QDA:\n",
    "\n",
    "1. Assumptions:\n",
    "   - LDA assumes that the classes have a common covariance matrix and that the features are normally distributed within each class.\n",
    "   - QDA relaxes the assumption of a common covariance matrix and allows each class to have its own covariance matrix.\n",
    "\n",
    "2. Decision boundary:\n",
    "   - LDA assumes a linear decision boundary and classifies new data points based on their relative position to this boundary.\n",
    "   - QDA allows for a more flexible decision boundary and can capture non-linear relationships between features.\n",
    "\n",
    "3. Training complexity:\n",
    "   - LDA is computationally simpler and requires estimation of fewer parameters since it assumes a common covariance matrix.\n",
    "   - QDA is computationally more complex as it estimates separate covariance matrices for each class.\n",
    "\n",
    "Given these characteristics, the choice between LDA and QDA depends on the underlying distribution and complexity of the data:\n",
    "\n",
    "- If the classes have similar covariance matrices and the decision boundary is expected to be close to linear, LDA may perform better. LDA tends to be more robust when the sample size is small and can be more efficient in terms of parameter estimation.\n",
    "- If the classes have different covariance matrices and the decision boundary is expected to be non-linear, QDA may perform better. QDA can capture more complex relationships between features and can be more flexible in modeling the data.\n",
    "\n",
    "To determine which method would perform better on your specific data, it is recommended to perform model evaluation using appropriate evaluation metrics such as accuracy, precision, recall, or F1 score. Additionally, conducting cross-validation or using a separate test dataset can help assess the generalization performance of each method.\n",
    "\n",
    "It is important to note that the final choice between LDA and QDA should be based on the specific characteristics of the data and the performance observed during the evaluation process."
   ]
  },
  {
   "cell_type": "markdown",
   "metadata": {},
   "source": [
    "- d. Check the equality of mean for between all the classes."
   ]
  },
  {
   "cell_type": "code",
   "execution_count": 8,
   "metadata": {},
   "outputs": [],
   "source": [
    "f_statistic, p_value = stats.f_oneway(before_bp, after_bp)\n",
    "alpha = 0.05"
   ]
  },
  {
   "cell_type": "code",
   "execution_count": 9,
   "metadata": {},
   "outputs": [
    {
     "name": "stdout",
     "output_type": "stream",
     "text": [
      "The means of at least one class is different.\n"
     ]
    }
   ],
   "source": [
    "if p_value > alpha:\n",
    "    print(\"The means of all the classes are equal.\")\n",
    "else:\n",
    "    print(\"The means of at least one class is different.\")"
   ]
  }
 ],
 "metadata": {
  "kernelspec": {
   "display_name": "Python 3.10.7 64-bit",
   "language": "python",
   "name": "python3"
  },
  "language_info": {
   "codemirror_mode": {
    "name": "ipython",
    "version": 3
   },
   "file_extension": ".py",
   "mimetype": "text/x-python",
   "name": "python",
   "nbconvert_exporter": "python",
   "pygments_lexer": "ipython3",
   "version": "3.10.7"
  },
  "orig_nbformat": 4,
  "vscode": {
   "interpreter": {
    "hash": "3196968d684371006099b3d55edeef8ed90365227a30deaef86e5d4aa8519be0"
   }
  }
 },
 "nbformat": 4,
 "nbformat_minor": 2
}
