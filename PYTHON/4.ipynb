{
 "cells": [
  {
   "cell_type": "markdown",
   "metadata": {},
   "source": [
    "##### 4. Write a program to download the data from the link given below and then read the data and convert the into the proper structure and return it as a CSV file."
   ]
  },
  {
   "cell_type": "markdown",
   "metadata": {},
   "source": [
    "Data Attributes\n",
    "\n",
    "- Name of Earth Meteorite - string\n",
    "- id - ID of Earth Meteorite - int\n",
    "- nametype - string \n",
    "- recclass - string\n",
    "- mass - Mass of Earth Meteorite - float\n",
    "- fall - \n",
    "- year - Year at which Earth Meteorite was hit - datetime format\n",
    "- reclat - float\n",
    "- recclong - float\n",
    "- point coordinates - list of int"
   ]
  },
  {
   "cell_type": "code",
   "execution_count": 1,
   "metadata": {},
   "outputs": [],
   "source": [
    "# Installing required packages\n",
    "\n",
    "import requests\n",
    "import json\n",
    "import pandas as pd\n",
    "import seaborn as sns\n",
    "import numpy as np\n",
    "import matplotlib.pyplot as plt"
   ]
  },
  {
   "cell_type": "code",
   "execution_count": 2,
   "metadata": {},
   "outputs": [
    {
     "name": "stdout",
     "output_type": "stream",
     "text": [
      "Data save successfully...👍\n"
     ]
    }
   ],
   "source": [
    "def download_data(url):     # Downloading the data from the provided url.\n",
    "    try:\n",
    "        response = requests.get(url)\n",
    "        response.raise_for_status()\n",
    "    except requests.exceptions.HTTPError as error:\n",
    "        print(f\"HTTP error occurred: {error}\")\n",
    "        return None\n",
    "    except requests.exceptions.RequestException as error:\n",
    "        print(f\"An error occurred: {error}\")\n",
    "        return None\n",
    "\n",
    "    raw_data = response.json()\n",
    "\n",
    "    # Extracting the required data from the raw data.\n",
    "\n",
    "    data = []\n",
    "    for i in raw_data:\n",
    "        json_data = {\n",
    "            'name': i.get('name', None),\n",
    "            'id': i.get('id', None),\n",
    "            'nametype': 1 if i.get('nametype', '') == \"Valid\" else 0,\n",
    "            'recclass': i.get('recclass', None),\n",
    "            'mass': float(i.get('mass', None)) if 'mass' in i else None,\n",
    "            'fall': i.get('fall', None),\n",
    "            'year': i.get('year', '')[:10] if 'year' in i else None,\n",
    "            'reclat': float(i.get('reclat', None)) if 'reclat' in i else None,\n",
    "            'reclong': float(i.get('reclong', None)) if 'reclong' in i else None,\n",
    "            'point coordinates': [float(i.get('reclat', None)), float(i.get('reclong', None))] if 'reclat' in i and 'reclong' in i else None\n",
    "        }\n",
    "        data.append(json_data)\n",
    "\n",
    "    return data\n",
    "\n",
    "# Converting the extracted data into a DataFrame.\n",
    "\n",
    "def save_csv(data, filename):\n",
    "    try:\n",
    "        df = pd.DataFrame(data)\n",
    "        df.to_csv(filename, index=False)         # Saving the DataFrame to csv format\n",
    "        print(\"Data save successfully...👍\")\n",
    "    except Exception as error:\n",
    "        print(f\"An error occurred while saving the file: {error}\")\n",
    "\n",
    "if __name__ == '__main__':\n",
    "    url = 'https://data.nasa.gov/resource/y77d-th95.json'       # Providing url for the data.\n",
    "    filename = 'meteorite.csv'\n",
    "    \n",
    "    # Download data from the given URL\n",
    "    data = download_data(url)\n",
    "    \n",
    "    if data is not None:\n",
    "        # Save the data as CSV\n",
    "        save_csv(data, filename)"
   ]
  },
  {
   "cell_type": "code",
   "execution_count": 3,
   "metadata": {},
   "outputs": [
    {
     "data": {
      "text/html": [
       "<div>\n",
       "<style scoped>\n",
       "    .dataframe tbody tr th:only-of-type {\n",
       "        vertical-align: middle;\n",
       "    }\n",
       "\n",
       "    .dataframe tbody tr th {\n",
       "        vertical-align: top;\n",
       "    }\n",
       "\n",
       "    .dataframe thead th {\n",
       "        text-align: right;\n",
       "    }\n",
       "</style>\n",
       "<table border=\"1\" class=\"dataframe\">\n",
       "  <thead>\n",
       "    <tr style=\"text-align: right;\">\n",
       "      <th></th>\n",
       "      <th>name</th>\n",
       "      <th>id</th>\n",
       "      <th>nametype</th>\n",
       "      <th>recclass</th>\n",
       "      <th>mass</th>\n",
       "      <th>fall</th>\n",
       "      <th>year</th>\n",
       "      <th>reclat</th>\n",
       "      <th>reclong</th>\n",
       "      <th>point coordinates</th>\n",
       "    </tr>\n",
       "  </thead>\n",
       "  <tbody>\n",
       "    <tr>\n",
       "      <th>0</th>\n",
       "      <td>Aachen</td>\n",
       "      <td>1</td>\n",
       "      <td>1</td>\n",
       "      <td>L5</td>\n",
       "      <td>21.0</td>\n",
       "      <td>Fell</td>\n",
       "      <td>1880-01-01</td>\n",
       "      <td>50.77500</td>\n",
       "      <td>6.08333</td>\n",
       "      <td>[50.775, 6.08333]</td>\n",
       "    </tr>\n",
       "    <tr>\n",
       "      <th>1</th>\n",
       "      <td>Aarhus</td>\n",
       "      <td>2</td>\n",
       "      <td>1</td>\n",
       "      <td>H6</td>\n",
       "      <td>720.0</td>\n",
       "      <td>Fell</td>\n",
       "      <td>1951-01-01</td>\n",
       "      <td>56.18333</td>\n",
       "      <td>10.23333</td>\n",
       "      <td>[56.18333, 10.23333]</td>\n",
       "    </tr>\n",
       "    <tr>\n",
       "      <th>2</th>\n",
       "      <td>Abee</td>\n",
       "      <td>6</td>\n",
       "      <td>1</td>\n",
       "      <td>EH4</td>\n",
       "      <td>107000.0</td>\n",
       "      <td>Fell</td>\n",
       "      <td>1952-01-01</td>\n",
       "      <td>54.21667</td>\n",
       "      <td>-113.00000</td>\n",
       "      <td>[54.21667, -113.0]</td>\n",
       "    </tr>\n",
       "    <tr>\n",
       "      <th>3</th>\n",
       "      <td>Acapulco</td>\n",
       "      <td>10</td>\n",
       "      <td>1</td>\n",
       "      <td>Acapulcoite</td>\n",
       "      <td>1914.0</td>\n",
       "      <td>Fell</td>\n",
       "      <td>1976-01-01</td>\n",
       "      <td>16.88333</td>\n",
       "      <td>-99.90000</td>\n",
       "      <td>[16.88333, -99.9]</td>\n",
       "    </tr>\n",
       "    <tr>\n",
       "      <th>4</th>\n",
       "      <td>Achiras</td>\n",
       "      <td>370</td>\n",
       "      <td>1</td>\n",
       "      <td>L6</td>\n",
       "      <td>780.0</td>\n",
       "      <td>Fell</td>\n",
       "      <td>1902-01-01</td>\n",
       "      <td>-33.16667</td>\n",
       "      <td>-64.95000</td>\n",
       "      <td>[-33.16667, -64.95]</td>\n",
       "    </tr>\n",
       "    <tr>\n",
       "      <th>...</th>\n",
       "      <td>...</td>\n",
       "      <td>...</td>\n",
       "      <td>...</td>\n",
       "      <td>...</td>\n",
       "      <td>...</td>\n",
       "      <td>...</td>\n",
       "      <td>...</td>\n",
       "      <td>...</td>\n",
       "      <td>...</td>\n",
       "      <td>...</td>\n",
       "    </tr>\n",
       "    <tr>\n",
       "      <th>995</th>\n",
       "      <td>Tirupati</td>\n",
       "      <td>24009</td>\n",
       "      <td>1</td>\n",
       "      <td>H6</td>\n",
       "      <td>230.0</td>\n",
       "      <td>Fell</td>\n",
       "      <td>1934-01-01</td>\n",
       "      <td>13.63333</td>\n",
       "      <td>79.41667</td>\n",
       "      <td>[13.63333, 79.41667]</td>\n",
       "    </tr>\n",
       "    <tr>\n",
       "      <th>996</th>\n",
       "      <td>Tissint</td>\n",
       "      <td>54823</td>\n",
       "      <td>1</td>\n",
       "      <td>Martian (shergottite)</td>\n",
       "      <td>7000.0</td>\n",
       "      <td>Fell</td>\n",
       "      <td>2011-01-01</td>\n",
       "      <td>29.48195</td>\n",
       "      <td>-7.61123</td>\n",
       "      <td>[29.48195, -7.61123]</td>\n",
       "    </tr>\n",
       "    <tr>\n",
       "      <th>997</th>\n",
       "      <td>Tjabe</td>\n",
       "      <td>24011</td>\n",
       "      <td>1</td>\n",
       "      <td>H6</td>\n",
       "      <td>20000.0</td>\n",
       "      <td>Fell</td>\n",
       "      <td>1869-01-01</td>\n",
       "      <td>-7.08333</td>\n",
       "      <td>111.53333</td>\n",
       "      <td>[-7.08333, 111.53333]</td>\n",
       "    </tr>\n",
       "    <tr>\n",
       "      <th>998</th>\n",
       "      <td>Tjerebon</td>\n",
       "      <td>24012</td>\n",
       "      <td>1</td>\n",
       "      <td>L5</td>\n",
       "      <td>16500.0</td>\n",
       "      <td>Fell</td>\n",
       "      <td>1922-01-01</td>\n",
       "      <td>-6.66667</td>\n",
       "      <td>106.58333</td>\n",
       "      <td>[-6.66667, 106.58333]</td>\n",
       "    </tr>\n",
       "    <tr>\n",
       "      <th>999</th>\n",
       "      <td>Tomakovka</td>\n",
       "      <td>24019</td>\n",
       "      <td>1</td>\n",
       "      <td>LL6</td>\n",
       "      <td>600.0</td>\n",
       "      <td>Fell</td>\n",
       "      <td>1905-01-01</td>\n",
       "      <td>47.85000</td>\n",
       "      <td>34.76667</td>\n",
       "      <td>[47.85, 34.76667]</td>\n",
       "    </tr>\n",
       "  </tbody>\n",
       "</table>\n",
       "<p>1000 rows × 10 columns</p>\n",
       "</div>"
      ],
      "text/plain": [
       "          name     id  nametype               recclass      mass  fall  \\\n",
       "0       Aachen      1         1                     L5      21.0  Fell   \n",
       "1       Aarhus      2         1                     H6     720.0  Fell   \n",
       "2         Abee      6         1                    EH4  107000.0  Fell   \n",
       "3     Acapulco     10         1            Acapulcoite    1914.0  Fell   \n",
       "4      Achiras    370         1                     L6     780.0  Fell   \n",
       "..         ...    ...       ...                    ...       ...   ...   \n",
       "995   Tirupati  24009         1                     H6     230.0  Fell   \n",
       "996    Tissint  54823         1  Martian (shergottite)    7000.0  Fell   \n",
       "997      Tjabe  24011         1                     H6   20000.0  Fell   \n",
       "998   Tjerebon  24012         1                     L5   16500.0  Fell   \n",
       "999  Tomakovka  24019         1                    LL6     600.0  Fell   \n",
       "\n",
       "           year    reclat    reclong      point coordinates  \n",
       "0    1880-01-01  50.77500    6.08333      [50.775, 6.08333]  \n",
       "1    1951-01-01  56.18333   10.23333   [56.18333, 10.23333]  \n",
       "2    1952-01-01  54.21667 -113.00000     [54.21667, -113.0]  \n",
       "3    1976-01-01  16.88333  -99.90000      [16.88333, -99.9]  \n",
       "4    1902-01-01 -33.16667  -64.95000    [-33.16667, -64.95]  \n",
       "..          ...       ...        ...                    ...  \n",
       "995  1934-01-01  13.63333   79.41667   [13.63333, 79.41667]  \n",
       "996  2011-01-01  29.48195   -7.61123   [29.48195, -7.61123]  \n",
       "997  1869-01-01  -7.08333  111.53333  [-7.08333, 111.53333]  \n",
       "998  1922-01-01  -6.66667  106.58333  [-6.66667, 106.58333]  \n",
       "999  1905-01-01  47.85000   34.76667      [47.85, 34.76667]  \n",
       "\n",
       "[1000 rows x 10 columns]"
      ]
     },
     "execution_count": 3,
     "metadata": {},
     "output_type": "execute_result"
    }
   ],
   "source": [
    "pd.read_csv(\"meteorite.csv\")    # Reading the dataset"
   ]
  },
  {
   "cell_type": "code",
   "execution_count": 4,
   "metadata": {},
   "outputs": [],
   "source": [
    "raw_dataset  = pd.read_csv(\"meteorite.csv\")      # Storing data into raw_dataset variable."
   ]
  },
  {
   "cell_type": "code",
   "execution_count": 5,
   "metadata": {},
   "outputs": [
    {
     "data": {
      "text/plain": [
       "(1000, 10)"
      ]
     },
     "execution_count": 5,
     "metadata": {},
     "output_type": "execute_result"
    }
   ],
   "source": [
    "raw_dataset.shape       # Checking shape of the dataset"
   ]
  },
  {
   "cell_type": "code",
   "execution_count": 6,
   "metadata": {},
   "outputs": [
    {
     "data": {
      "text/html": [
       "<div>\n",
       "<style scoped>\n",
       "    .dataframe tbody tr th:only-of-type {\n",
       "        vertical-align: middle;\n",
       "    }\n",
       "\n",
       "    .dataframe tbody tr th {\n",
       "        vertical-align: top;\n",
       "    }\n",
       "\n",
       "    .dataframe thead th {\n",
       "        text-align: right;\n",
       "    }\n",
       "</style>\n",
       "<table border=\"1\" class=\"dataframe\">\n",
       "  <thead>\n",
       "    <tr style=\"text-align: right;\">\n",
       "      <th></th>\n",
       "      <th>name</th>\n",
       "      <th>id</th>\n",
       "      <th>nametype</th>\n",
       "      <th>recclass</th>\n",
       "      <th>mass</th>\n",
       "      <th>fall</th>\n",
       "      <th>year</th>\n",
       "      <th>reclat</th>\n",
       "      <th>reclong</th>\n",
       "      <th>point coordinates</th>\n",
       "    </tr>\n",
       "  </thead>\n",
       "  <tbody>\n",
       "    <tr>\n",
       "      <th>0</th>\n",
       "      <td>Aachen</td>\n",
       "      <td>1</td>\n",
       "      <td>1</td>\n",
       "      <td>L5</td>\n",
       "      <td>21.0</td>\n",
       "      <td>Fell</td>\n",
       "      <td>1880-01-01</td>\n",
       "      <td>50.77500</td>\n",
       "      <td>6.08333</td>\n",
       "      <td>[50.775, 6.08333]</td>\n",
       "    </tr>\n",
       "    <tr>\n",
       "      <th>1</th>\n",
       "      <td>Aarhus</td>\n",
       "      <td>2</td>\n",
       "      <td>1</td>\n",
       "      <td>H6</td>\n",
       "      <td>720.0</td>\n",
       "      <td>Fell</td>\n",
       "      <td>1951-01-01</td>\n",
       "      <td>56.18333</td>\n",
       "      <td>10.23333</td>\n",
       "      <td>[56.18333, 10.23333]</td>\n",
       "    </tr>\n",
       "    <tr>\n",
       "      <th>2</th>\n",
       "      <td>Abee</td>\n",
       "      <td>6</td>\n",
       "      <td>1</td>\n",
       "      <td>EH4</td>\n",
       "      <td>107000.0</td>\n",
       "      <td>Fell</td>\n",
       "      <td>1952-01-01</td>\n",
       "      <td>54.21667</td>\n",
       "      <td>-113.00000</td>\n",
       "      <td>[54.21667, -113.0]</td>\n",
       "    </tr>\n",
       "    <tr>\n",
       "      <th>3</th>\n",
       "      <td>Acapulco</td>\n",
       "      <td>10</td>\n",
       "      <td>1</td>\n",
       "      <td>Acapulcoite</td>\n",
       "      <td>1914.0</td>\n",
       "      <td>Fell</td>\n",
       "      <td>1976-01-01</td>\n",
       "      <td>16.88333</td>\n",
       "      <td>-99.90000</td>\n",
       "      <td>[16.88333, -99.9]</td>\n",
       "    </tr>\n",
       "    <tr>\n",
       "      <th>4</th>\n",
       "      <td>Achiras</td>\n",
       "      <td>370</td>\n",
       "      <td>1</td>\n",
       "      <td>L6</td>\n",
       "      <td>780.0</td>\n",
       "      <td>Fell</td>\n",
       "      <td>1902-01-01</td>\n",
       "      <td>-33.16667</td>\n",
       "      <td>-64.95000</td>\n",
       "      <td>[-33.16667, -64.95]</td>\n",
       "    </tr>\n",
       "  </tbody>\n",
       "</table>\n",
       "</div>"
      ],
      "text/plain": [
       "       name   id  nametype     recclass      mass  fall        year    reclat  \\\n",
       "0    Aachen    1         1           L5      21.0  Fell  1880-01-01  50.77500   \n",
       "1    Aarhus    2         1           H6     720.0  Fell  1951-01-01  56.18333   \n",
       "2      Abee    6         1          EH4  107000.0  Fell  1952-01-01  54.21667   \n",
       "3  Acapulco   10         1  Acapulcoite    1914.0  Fell  1976-01-01  16.88333   \n",
       "4   Achiras  370         1           L6     780.0  Fell  1902-01-01 -33.16667   \n",
       "\n",
       "     reclong     point coordinates  \n",
       "0    6.08333     [50.775, 6.08333]  \n",
       "1   10.23333  [56.18333, 10.23333]  \n",
       "2 -113.00000    [54.21667, -113.0]  \n",
       "3  -99.90000     [16.88333, -99.9]  \n",
       "4  -64.95000   [-33.16667, -64.95]  "
      ]
     },
     "execution_count": 6,
     "metadata": {},
     "output_type": "execute_result"
    }
   ],
   "source": [
    "raw_dataset.head()      # Top 5 records of the dataset"
   ]
  },
  {
   "cell_type": "code",
   "execution_count": 7,
   "metadata": {},
   "outputs": [
    {
     "data": {
      "text/plain": [
       "name                  0\n",
       "id                    0\n",
       "nametype              0\n",
       "recclass              0\n",
       "mass                 28\n",
       "fall                  0\n",
       "year                  1\n",
       "reclat               12\n",
       "reclong              12\n",
       "point coordinates    12\n",
       "dtype: int64"
      ]
     },
     "execution_count": 7,
     "metadata": {},
     "output_type": "execute_result"
    }
   ],
   "source": [
    "raw_dataset.isnull().sum()  # Checking Missing Values."
   ]
  },
  {
   "cell_type": "markdown",
   "metadata": {},
   "source": [
    "- Their are missing values in the ***mass***, ***year***, ***reclat***, ***reclong*** and ***point coordinates*** column."
   ]
  },
  {
   "cell_type": "code",
   "execution_count": 8,
   "metadata": {},
   "outputs": [
    {
     "data": {
      "text/plain": [
       "name                  object\n",
       "id                     int64\n",
       "nametype               int64\n",
       "recclass              object\n",
       "mass                 float64\n",
       "fall                  object\n",
       "year                  object\n",
       "reclat               float64\n",
       "reclong              float64\n",
       "point coordinates     object\n",
       "dtype: object"
      ]
     },
     "execution_count": 8,
     "metadata": {},
     "output_type": "execute_result"
    }
   ],
   "source": [
    "raw_dataset.dtypes      # Checking datatypes of each features."
   ]
  },
  {
   "cell_type": "code",
   "execution_count": 9,
   "metadata": {},
   "outputs": [],
   "source": [
    "dataset = raw_dataset       # Copying data into dataset variable for backup purpose."
   ]
  },
  {
   "cell_type": "markdown",
   "metadata": {},
   "source": [
    "#### Feature Engineering"
   ]
  },
  {
   "cell_type": "code",
   "execution_count": 10,
   "metadata": {},
   "outputs": [
    {
     "data": {
      "text/html": [
       "<div>\n",
       "<style scoped>\n",
       "    .dataframe tbody tr th:only-of-type {\n",
       "        vertical-align: middle;\n",
       "    }\n",
       "\n",
       "    .dataframe tbody tr th {\n",
       "        vertical-align: top;\n",
       "    }\n",
       "\n",
       "    .dataframe thead th {\n",
       "        text-align: right;\n",
       "    }\n",
       "</style>\n",
       "<table border=\"1\" class=\"dataframe\">\n",
       "  <thead>\n",
       "    <tr style=\"text-align: right;\">\n",
       "      <th></th>\n",
       "      <th>name</th>\n",
       "      <th>id</th>\n",
       "      <th>nametype</th>\n",
       "      <th>recclass</th>\n",
       "      <th>mass</th>\n",
       "      <th>fall</th>\n",
       "      <th>year</th>\n",
       "      <th>reclat</th>\n",
       "      <th>reclong</th>\n",
       "      <th>point coordinates</th>\n",
       "    </tr>\n",
       "  </thead>\n",
       "  <tbody>\n",
       "    <tr>\n",
       "      <th>0</th>\n",
       "      <td>Aachen</td>\n",
       "      <td>1</td>\n",
       "      <td>1</td>\n",
       "      <td>L5</td>\n",
       "      <td>21.0</td>\n",
       "      <td>Fell</td>\n",
       "      <td>1880-01-01</td>\n",
       "      <td>50.77500</td>\n",
       "      <td>6.08333</td>\n",
       "      <td>[50.775, 6.08333]</td>\n",
       "    </tr>\n",
       "    <tr>\n",
       "      <th>1</th>\n",
       "      <td>Aarhus</td>\n",
       "      <td>2</td>\n",
       "      <td>1</td>\n",
       "      <td>H6</td>\n",
       "      <td>720.0</td>\n",
       "      <td>Fell</td>\n",
       "      <td>1951-01-01</td>\n",
       "      <td>56.18333</td>\n",
       "      <td>10.23333</td>\n",
       "      <td>[56.18333, 10.23333]</td>\n",
       "    </tr>\n",
       "    <tr>\n",
       "      <th>2</th>\n",
       "      <td>Abee</td>\n",
       "      <td>6</td>\n",
       "      <td>1</td>\n",
       "      <td>EH4</td>\n",
       "      <td>107000.0</td>\n",
       "      <td>Fell</td>\n",
       "      <td>1952-01-01</td>\n",
       "      <td>54.21667</td>\n",
       "      <td>-113.00000</td>\n",
       "      <td>[54.21667, -113.0]</td>\n",
       "    </tr>\n",
       "    <tr>\n",
       "      <th>3</th>\n",
       "      <td>Acapulco</td>\n",
       "      <td>10</td>\n",
       "      <td>1</td>\n",
       "      <td>Acapulcoite</td>\n",
       "      <td>1914.0</td>\n",
       "      <td>Fell</td>\n",
       "      <td>1976-01-01</td>\n",
       "      <td>16.88333</td>\n",
       "      <td>-99.90000</td>\n",
       "      <td>[16.88333, -99.9]</td>\n",
       "    </tr>\n",
       "    <tr>\n",
       "      <th>4</th>\n",
       "      <td>Achiras</td>\n",
       "      <td>370</td>\n",
       "      <td>1</td>\n",
       "      <td>L6</td>\n",
       "      <td>780.0</td>\n",
       "      <td>Fell</td>\n",
       "      <td>1902-01-01</td>\n",
       "      <td>-33.16667</td>\n",
       "      <td>-64.95000</td>\n",
       "      <td>[-33.16667, -64.95]</td>\n",
       "    </tr>\n",
       "  </tbody>\n",
       "</table>\n",
       "</div>"
      ],
      "text/plain": [
       "       name   id  nametype     recclass      mass  fall        year    reclat  \\\n",
       "0    Aachen    1         1           L5      21.0  Fell  1880-01-01  50.77500   \n",
       "1    Aarhus    2         1           H6     720.0  Fell  1951-01-01  56.18333   \n",
       "2      Abee    6         1          EH4  107000.0  Fell  1952-01-01  54.21667   \n",
       "3  Acapulco   10         1  Acapulcoite    1914.0  Fell  1976-01-01  16.88333   \n",
       "4   Achiras  370         1           L6     780.0  Fell  1902-01-01 -33.16667   \n",
       "\n",
       "     reclong     point coordinates  \n",
       "0    6.08333     [50.775, 6.08333]  \n",
       "1   10.23333  [56.18333, 10.23333]  \n",
       "2 -113.00000    [54.21667, -113.0]  \n",
       "3  -99.90000     [16.88333, -99.9]  \n",
       "4  -64.95000   [-33.16667, -64.95]  "
      ]
     },
     "execution_count": 10,
     "metadata": {},
     "output_type": "execute_result"
    }
   ],
   "source": [
    "dataset.head()"
   ]
  },
  {
   "cell_type": "code",
   "execution_count": 11,
   "metadata": {},
   "outputs": [
    {
     "data": {
      "text/plain": [
       "name                  object\n",
       "id                     int64\n",
       "nametype               int64\n",
       "recclass              object\n",
       "mass                 float64\n",
       "fall                  object\n",
       "year                  object\n",
       "reclat               float64\n",
       "reclong              float64\n",
       "point coordinates     object\n",
       "dtype: object"
      ]
     },
     "execution_count": 11,
     "metadata": {},
     "output_type": "execute_result"
    }
   ],
   "source": [
    "dataset.dtypes"
   ]
  },
  {
   "cell_type": "code",
   "execution_count": 12,
   "metadata": {},
   "outputs": [
    {
     "data": {
      "text/plain": [
       "array([    1,     2,     6,    10,   370,   379,   390,   392,   398,\n",
       "         417,   423,   424,   425,   426,   427,   432,   433,   446,\n",
       "         447,   448,   453,   454,   458,   461,   462,   463,   465,\n",
       "         466,  2276,  2278, 48915,  2284,  2290,  2294,  2295,  2296,\n",
       "        2298, 50693,  2301,  2302,  2304,  2305,  2313,  2318,  2320,\n",
       "        2325,  2329,  2340,  2345, 48954,  2346,  2353,  4883,  4884,\n",
       "        4885,  4888,  4893,  4899,  4900,  4903,  4905,  4906,  4907,\n",
       "        4910,  4913,  4917,  4922,  4925,  4926,  4928,  4934,  4935,\n",
       "        4936,  4937,  4938,  4942,  4944,  4946,  4947,  4948,  4949,\n",
       "        4954, 44876,  4957,  4974,  4975, 56133,  4976,  4977,  4984,\n",
       "        4986,  4993,  5005,  5009,  5011, 30443,  5018,  5021,  5023,\n",
       "        5024,  5026, 48975,  5028,  5029, 47355,  5032,  5034,  5035,\n",
       "        5037, 36591,  5039,  5040,  5041,  5042,  5043,  5045,  5051,\n",
       "        5056,  5059,  5060,  5063,  5064,  5065,  5068,  5071,  5072,\n",
       "        5076,  5090,  5093,  5097,  5098,  5110,  5111,  5112,  5113,\n",
       "        5114,  5117, 57168, 57167,  5121,  5128,  5133,  5134,  5135,\n",
       "        5140,  5156, 30448,  5163, 48653,  5165,  5169,  5175,  5177,\n",
       "        5178,  5181,  5183, 48654,  5185,  5186,  5187, 45976,  5200,\n",
       "        5249,  5250,  5251,  5252,  5253,  5260,  5264, 45817,  5265,\n",
       "        5291,  5292,  5293,  5295,  5296,  5306,  5307,  5308,  5313,\n",
       "        5314,  5315,  5316,  5320,  5321,  5322,  5325,  5328,  5329,\n",
       "        5330,  5331,  5332,  5334,  5338, 57165, 47347,  5339,  5340,\n",
       "        5341,  5342,  5344,  5345,  5349,  5355,  5356,  5357,  5364,\n",
       "        5374,  5383,  5395,  5397,  5401,  5403,  5418,  5451,  5465,\n",
       "        5470,  5474,  5476,  5477,  5496,  5500,  5504,  5511,  5513,\n",
       "        5514,  6603,  6604, 51559,  6621,  6634,  6642,  6649,  6660,\n",
       "        6664,  6693,  6694,  6696,  6698,  6699,  7640, 47350,  7642,\n",
       "        7649,  7652,  7656,  7657,  7658,  7659,  7661,  7706,  7707,\n",
       "        7708,  7718,  7722,  7723,  7725,  7728,  7731,  7736,  7743,\n",
       "        7745,  7749,  7750,  7752,  7754,  7755,  7757,  7758,  7760,\n",
       "        7774,  7775,  7776,  7777,  7807, 45977,  7819,  7822,  7823,\n",
       "        7824, 10019, 10033, 10038, 10039, 10041, 10042, 10043, 10044,\n",
       "       10049, 10051, 10055, 10059, 10074, 10075, 10078, 10079, 10080,\n",
       "       10081, 10086, 10088, 10091, 10107, 10111, 10119, 10120, 10123,\n",
       "       10163, 10164, 10166, 10177, 52412, 10836, 10838, 10839, 10840,\n",
       "       10846, 10848, 10849, 10850, 10851, 10854, 10860, 10861, 44882,\n",
       "       10866, 10870, 10914, 10917, 10919, 10923, 10924, 10926, 10930,\n",
       "       10936, 10948, 10949, 10956, 11196, 50911, 11206, 11207, 11208,\n",
       "       11426, 11429, 11432, 11435, 11436, 11437, 11439, 11440, 11442,\n",
       "       11443, 11448, 11449, 11450, 11464, 11465, 11466, 11467, 11468,\n",
       "       11472, 11479, 11485, 11824, 11829, 11830, 11842, 11848, 11852,\n",
       "       11855, 11859, 11869, 11870, 11875, 11878, 11883, 11884, 11889,\n",
       "       44714, 11893, 11894, 11895, 11901, 11904, 11913, 11915, 11916,\n",
       "       54719, 11986, 11989, 11992, 11993, 11994, 11995, 12000, 12003,\n",
       "       12004, 12027, 12028, 12037, 12039, 12043, 12049, 12053, 12056,\n",
       "       12058, 12063, 12065, 12067, 12068, 12069, 12072, 12074, 12078,\n",
       "       12079, 51589, 12085, 12086, 12087, 12171, 47362, 12173, 12198,\n",
       "       12199, 12202, 12203, 12207, 12209, 12210, 12213, 12214, 12218,\n",
       "       12220, 12221, 12222, 12227, 12228, 12229, 12230, 12231, 12232,\n",
       "       12236, 12238, 12240, 12241, 12243, 12245, 12246, 12251, 47357,\n",
       "       12253, 12256, 12258, 12260, 12262, 12263, 12264, 12266, 30740,\n",
       "       35465, 47351, 12268, 12270, 53654, 12275, 12276, 12282, 12284,\n",
       "       12286, 12288, 12289, 12291, 12294, 12296, 12297, 12298, 12299,\n",
       "       12300, 12301, 12303, 12305, 12306, 12307, 12308, 12309, 12316,\n",
       "       12321, 12325, 12326, 12332, 12335, 12336, 12342, 12343, 12344,\n",
       "       53810, 12353, 12355, 12357, 12363, 12364, 12368, 12369, 12370,\n",
       "       12373, 12377, 12379, 12381, 12382, 12383, 12384, 12385, 12390,\n",
       "       12392, 12394, 12395, 12396, 12408, 12433, 12434, 32531, 12435,\n",
       "       12451, 12455, 12456, 12461, 12464, 12465, 12466, 12740, 12743,\n",
       "       12748, 12749, 12755, 12756, 12759, 12760, 12765, 12769, 12772,\n",
       "       14646, 14650, 14652, 14655, 14659, 14661, 14664, 14670, 14675,\n",
       "       14678, 52843, 14708, 14711, 14716, 14718, 14721, 14724, 14753,\n",
       "       14754, 14755, 14756, 14757, 14759, 14764, 15370, 15371, 15372,\n",
       "       15379, 15380, 15382, 15383, 15386, 15387, 47361, 30751, 15393,\n",
       "       15394, 15395, 15397, 15400, 15401, 15402, 15403, 15405, 15409,\n",
       "       15414, 15418, 15419, 48973, 15421, 15422, 15424, 15426, 15429,\n",
       "       15430, 15436, 15438, 53653, 15443, 15446, 15447, 15451, 15453,\n",
       "       15454, 15455, 15467, 15469, 15470, 15485, 15486, 15489, 15491,\n",
       "       15492, 15495, 16626, 16627, 16628, 16629, 16631, 16632, 52090,\n",
       "       16634, 16635, 16636, 16640, 16643, 16645, 16692, 16696, 16697,\n",
       "       16700, 16701, 16703, 16707, 16709, 16711, 16713, 16715, 16717,\n",
       "       16719, 16720, 16725, 16726, 16727, 16729, 16733, 16736, 16737,\n",
       "       16738, 16740, 16742, 16747, 36592, 16759, 16762, 16766, 16804,\n",
       "       16805, 16820, 16841, 16851, 16874, 16875, 16882, 16885, 16887,\n",
       "       16889, 16890, 16892, 16893, 16898, 16899, 16902, 16903, 16904,\n",
       "       16907, 16908, 16909, 16912, 16914, 16922, 16923, 16927, 16934,\n",
       "       16935, 16941, 16945, 16950, 16953, 16954, 16960, 16966, 16968,\n",
       "       16970, 16974, 16975, 16976, 16977, 16980, 16981, 16982, 16983,\n",
       "       16984, 16985, 16988, 16989, 16994, 17922, 17930, 17933, 17934,\n",
       "       17935, 17936, 17938, 17959, 17960, 17969, 17970, 17979, 17988,\n",
       "       17989, 17990, 17994, 17995, 17996, 17997, 17998, 18000, 18002,\n",
       "       18009, 18012, 18013, 18015, 18019, 18026, 34489, 18030, 18033,\n",
       "       18034, 18042, 18045, 18046, 56729, 18050, 31282, 18052, 18055,\n",
       "       18058, 18062, 18068, 18069, 18072, 18073, 18074, 18077, 18079,\n",
       "       18082, 32591, 18093, 18098, 18101, 18102, 18103, 18106, 18108,\n",
       "       18109, 18110, 18112, 18116, 18118, 18171, 18173, 18175, 18176,\n",
       "       18177, 18179, 18180, 18181, 18782, 18786, 18792, 18793, 18797,\n",
       "       18798, 18799, 18800, 18801, 18804, 18808, 18809, 18811, 18812,\n",
       "       18813, 18816, 18822, 18831, 18832, 18834, 18835, 18837, 18846,\n",
       "       51706, 18849, 18851, 32592, 18853, 18858, 18860, 18865, 18874,\n",
       "       18876, 18879, 18883, 18887, 18888, 45984, 18899, 18901, 18902,\n",
       "       18905, 18907, 18908, 22357, 22358, 22360, 22361, 22363, 22368,\n",
       "       22371, 31302, 22376, 22384, 22385, 22386, 22387, 22390, 22392,\n",
       "       22394, 22395, 22396, 22398, 53502, 22584, 22585, 22586, 22587,\n",
       "       22589, 22590, 22592, 22593, 22597, 24140, 22599, 22602, 22603,\n",
       "       22611, 22614, 22637, 22640, 22641, 22642, 22766, 22773, 22780,\n",
       "       22782, 22783, 22791, 22792, 22793, 22796, 23101, 23102, 23103,\n",
       "       23107, 23111, 23114, 23115, 23128, 31315, 23130, 34063, 23161,\n",
       "       23164, 23165, 50909, 23171, 23176, 23187, 23188, 23190, 23192,\n",
       "       23455, 23457, 23458, 23460, 23472, 23473, 23476, 23481, 23483,\n",
       "       23487, 23495, 23496, 23500, 23501, 23502, 23504, 23508, 23509,\n",
       "       23512, 23521, 23525, 23529, 23530, 23531, 23534, 23582, 23583,\n",
       "       23584, 23586, 23593, 23594, 55584, 23603, 23606, 23611, 23613,\n",
       "       23614, 23616, 23617, 23619, 23621, 23626, 23645, 23660, 23661,\n",
       "       23663, 53829, 23667, 23668, 23670, 23671, 23081, 23082, 23083,\n",
       "       23087, 23089, 23090, 23091, 23092, 23093, 23097, 23712, 23713,\n",
       "       23717, 23099, 23724, 23726, 23728, 23729, 23732, 23733, 23736,\n",
       "       23737, 23738, 48951, 23741, 23745, 23760, 55529, 23773, 23776,\n",
       "       23778, 23782, 23784, 23789, 23791, 23795, 48691, 23801, 23873,\n",
       "       23884, 23885, 23887, 23888, 23897, 23898, 23908, 54493, 23976,\n",
       "       23984, 23989, 23998, 23999, 24004, 24009, 54823, 24011, 24012,\n",
       "       24019], dtype=int64)"
      ]
     },
     "execution_count": 12,
     "metadata": {},
     "output_type": "execute_result"
    }
   ],
   "source": [
    "dataset['id'].unique()"
   ]
  },
  {
   "cell_type": "code",
   "execution_count": 13,
   "metadata": {},
   "outputs": [
    {
     "data": {
      "text/plain": [
       "1000"
      ]
     },
     "execution_count": 13,
     "metadata": {},
     "output_type": "execute_result"
    }
   ],
   "source": [
    "len(dataset['id'].unique())"
   ]
  },
  {
   "cell_type": "code",
   "execution_count": 14,
   "metadata": {},
   "outputs": [
    {
     "data": {
      "text/plain": [
       "array([1], dtype=int64)"
      ]
     },
     "execution_count": 14,
     "metadata": {},
     "output_type": "execute_result"
    }
   ],
   "source": [
    "dataset['nametype'].unique()"
   ]
  },
  {
   "cell_type": "code",
   "execution_count": 15,
   "metadata": {},
   "outputs": [
    {
     "data": {
      "text/plain": [
       "1"
      ]
     },
     "execution_count": 15,
     "metadata": {},
     "output_type": "execute_result"
    }
   ],
   "source": [
    "len(dataset['nametype'].unique())"
   ]
  },
  {
   "cell_type": "code",
   "execution_count": 16,
   "metadata": {},
   "outputs": [],
   "source": [
    "dataset.drop([\"nametype\"],axis=1, inplace=True)        # Dropping column which is not in use."
   ]
  },
  {
   "cell_type": "code",
   "execution_count": 21,
   "metadata": {},
   "outputs": [
    {
     "data": {
      "text/plain": [
       "array(['L5', 'H6', 'EH4', 'Acapulcoite', 'L6', 'LL3-6', 'H5', 'L',\n",
       "       'Diogenite-pm', 'Unknown', 'H4', 'H', 'Iron, IVA', 'CR2-an', 'LL5',\n",
       "       'CI1', 'L/LL4', 'Eucrite-mmict', 'CV3', 'Ureilite-an',\n",
       "       'Stone-uncl', 'L3', 'Angrite', 'LL6', 'L4', 'Aubrite',\n",
       "       'Iron, IIAB', 'Iron, IAB-sLL', 'Iron, ungrouped', 'CM2', 'OC',\n",
       "       'Mesosiderite-A1', 'LL4', 'C2-ung', 'LL3.8', 'Howardite',\n",
       "       'Eucrite-pmict', 'Diogenite', 'LL3.15', 'LL3.9', 'Iron, IAB-MG',\n",
       "       'H/L3.9', 'Iron?', 'Eucrite', 'H4-an', 'L/LL6', 'Iron, IIIAB',\n",
       "       'H/L4', 'H4-5', 'L3.7', 'LL3.4', 'Martian (chassignite)', 'EL6',\n",
       "       'H3.8', 'H3-5', 'H5-6', 'Mesosiderite', 'H5-7', 'L3-6', 'H4-6',\n",
       "       'Ureilite', 'Iron, IID', 'Mesosiderite-A3/4', 'CO3.3', 'H3',\n",
       "       'EH3/4-an', 'Iron, IIE', 'L/LL5', 'H3.7', 'CBa', 'H4/5', 'H3/4',\n",
       "       'H?', 'H3-6', 'L3.4', 'Iron, IAB-sHL', 'L3.7-6', 'EH7-an', 'Iron',\n",
       "       'CR2', 'CO3.2', 'K3', 'L5/6', 'CK4', 'Iron, IIE-an', 'L3.6',\n",
       "       'LL3.2', 'Pallasite', 'CO3.5', 'Lodranite', 'Mesosiderite-A3',\n",
       "       'L3-4', 'H5/6', 'Pallasite, PMG', 'Eucrite-cm', 'L5-6', 'CO3.6',\n",
       "       'Martian (nakhlite)', 'LL3.6', 'C3-ung', 'H3-4', 'CO3.4', 'EH3',\n",
       "       'Iron, IAB-ung', 'Winonaite', 'LL', 'Eucrite-br', 'Iron, IIF',\n",
       "       'R3.8-6', 'L4-6', 'EH5', 'LL3.00', 'H3.4', 'Martian (shergottite)',\n",
       "       'Achondrite-ung', 'LL3.3', 'C', 'H/L3.6'], dtype=object)"
      ]
     },
     "execution_count": 21,
     "metadata": {},
     "output_type": "execute_result"
    }
   ],
   "source": [
    "dataset['recclass'].unique()"
   ]
  },
  {
   "cell_type": "code",
   "execution_count": 22,
   "metadata": {},
   "outputs": [
    {
     "data": {
      "text/plain": [
       "118"
      ]
     },
     "execution_count": 22,
     "metadata": {},
     "output_type": "execute_result"
    }
   ],
   "source": [
    "len(dataset['recclass'].unique())"
   ]
  },
  {
   "cell_type": "code",
   "execution_count": 23,
   "metadata": {},
   "outputs": [
    {
     "data": {
      "text/html": [
       "<div>\n",
       "<style scoped>\n",
       "    .dataframe tbody tr th:only-of-type {\n",
       "        vertical-align: middle;\n",
       "    }\n",
       "\n",
       "    .dataframe tbody tr th {\n",
       "        vertical-align: top;\n",
       "    }\n",
       "\n",
       "    .dataframe thead th {\n",
       "        text-align: right;\n",
       "    }\n",
       "</style>\n",
       "<table border=\"1\" class=\"dataframe\">\n",
       "  <thead>\n",
       "    <tr style=\"text-align: right;\">\n",
       "      <th></th>\n",
       "      <th>name</th>\n",
       "      <th>id</th>\n",
       "      <th>recclass</th>\n",
       "      <th>mass</th>\n",
       "      <th>fall</th>\n",
       "      <th>year</th>\n",
       "      <th>reclat</th>\n",
       "      <th>reclong</th>\n",
       "      <th>point coordinates</th>\n",
       "    </tr>\n",
       "  </thead>\n",
       "  <tbody>\n",
       "    <tr>\n",
       "      <th>0</th>\n",
       "      <td>Aachen</td>\n",
       "      <td>1</td>\n",
       "      <td>L5</td>\n",
       "      <td>21.0</td>\n",
       "      <td>Fell</td>\n",
       "      <td>1880-01-01</td>\n",
       "      <td>50.77500</td>\n",
       "      <td>6.08333</td>\n",
       "      <td>[50.775, 6.08333]</td>\n",
       "    </tr>\n",
       "    <tr>\n",
       "      <th>1</th>\n",
       "      <td>Aarhus</td>\n",
       "      <td>2</td>\n",
       "      <td>H6</td>\n",
       "      <td>720.0</td>\n",
       "      <td>Fell</td>\n",
       "      <td>1951-01-01</td>\n",
       "      <td>56.18333</td>\n",
       "      <td>10.23333</td>\n",
       "      <td>[56.18333, 10.23333]</td>\n",
       "    </tr>\n",
       "    <tr>\n",
       "      <th>2</th>\n",
       "      <td>Abee</td>\n",
       "      <td>6</td>\n",
       "      <td>EH4</td>\n",
       "      <td>107000.0</td>\n",
       "      <td>Fell</td>\n",
       "      <td>1952-01-01</td>\n",
       "      <td>54.21667</td>\n",
       "      <td>-113.00000</td>\n",
       "      <td>[54.21667, -113.0]</td>\n",
       "    </tr>\n",
       "    <tr>\n",
       "      <th>3</th>\n",
       "      <td>Acapulco</td>\n",
       "      <td>10</td>\n",
       "      <td>Acapulcoite</td>\n",
       "      <td>1914.0</td>\n",
       "      <td>Fell</td>\n",
       "      <td>1976-01-01</td>\n",
       "      <td>16.88333</td>\n",
       "      <td>-99.90000</td>\n",
       "      <td>[16.88333, -99.9]</td>\n",
       "    </tr>\n",
       "    <tr>\n",
       "      <th>4</th>\n",
       "      <td>Achiras</td>\n",
       "      <td>370</td>\n",
       "      <td>L6</td>\n",
       "      <td>780.0</td>\n",
       "      <td>Fell</td>\n",
       "      <td>1902-01-01</td>\n",
       "      <td>-33.16667</td>\n",
       "      <td>-64.95000</td>\n",
       "      <td>[-33.16667, -64.95]</td>\n",
       "    </tr>\n",
       "  </tbody>\n",
       "</table>\n",
       "</div>"
      ],
      "text/plain": [
       "       name   id     recclass      mass  fall        year    reclat  \\\n",
       "0    Aachen    1           L5      21.0  Fell  1880-01-01  50.77500   \n",
       "1    Aarhus    2           H6     720.0  Fell  1951-01-01  56.18333   \n",
       "2      Abee    6          EH4  107000.0  Fell  1952-01-01  54.21667   \n",
       "3  Acapulco   10  Acapulcoite    1914.0  Fell  1976-01-01  16.88333   \n",
       "4   Achiras  370           L6     780.0  Fell  1902-01-01 -33.16667   \n",
       "\n",
       "     reclong     point coordinates  \n",
       "0    6.08333     [50.775, 6.08333]  \n",
       "1   10.23333  [56.18333, 10.23333]  \n",
       "2 -113.00000    [54.21667, -113.0]  \n",
       "3  -99.90000     [16.88333, -99.9]  \n",
       "4  -64.95000   [-33.16667, -64.95]  "
      ]
     },
     "execution_count": 23,
     "metadata": {},
     "output_type": "execute_result"
    }
   ],
   "source": [
    "dataset.head()"
   ]
  },
  {
   "cell_type": "code",
   "execution_count": 32,
   "metadata": {},
   "outputs": [
    {
     "data": {
      "text/plain": [
       "name                  0\n",
       "id                    0\n",
       "recclass              0\n",
       "mass                 28\n",
       "fall                  0\n",
       "year                  1\n",
       "reclat               12\n",
       "reclong              12\n",
       "point coordinates    12\n",
       "dtype: int64"
      ]
     },
     "execution_count": 32,
     "metadata": {},
     "output_type": "execute_result"
    }
   ],
   "source": [
    "dataset.isnull().sum()"
   ]
  },
  {
   "cell_type": "code",
   "execution_count": 38,
   "metadata": {},
   "outputs": [
    {
     "data": {
      "text/plain": [
       "1000"
      ]
     },
     "execution_count": 38,
     "metadata": {},
     "output_type": "execute_result"
    }
   ],
   "source": [
    "dataset['fall'].count()"
   ]
  },
  {
   "cell_type": "code",
   "execution_count": 36,
   "metadata": {},
   "outputs": [
    {
     "data": {
      "text/plain": [
       "array(['Fell', 'Found'], dtype=object)"
      ]
     },
     "execution_count": 36,
     "metadata": {},
     "output_type": "execute_result"
    }
   ],
   "source": [
    "dataset['fall'].unique()"
   ]
  }
 ],
 "metadata": {
  "kernelspec": {
   "display_name": "Python 3.8.5 ('base')",
   "language": "python",
   "name": "python3"
  },
  "language_info": {
   "codemirror_mode": {
    "name": "ipython",
    "version": 3
   },
   "file_extension": ".py",
   "mimetype": "text/x-python",
   "name": "python",
   "nbconvert_exporter": "python",
   "pygments_lexer": "ipython3",
   "version": "3.8.5"
  },
  "orig_nbformat": 4,
  "vscode": {
   "interpreter": {
    "hash": "831c8d92a2d4b33b6bdbd930f80d233dd70f2371e2d79e4c68745108a666f2d5"
   }
  }
 },
 "nbformat": 4,
 "nbformat_minor": 2
}
