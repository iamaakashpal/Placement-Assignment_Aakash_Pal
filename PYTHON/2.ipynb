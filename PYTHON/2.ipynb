{
 "cells": [
  {
   "cell_type": "markdown",
   "metadata": {},
   "source": [
    "##### 2. Consider a string to be valid if all characters of the string appear the same number of times. It is also valid if he can remove just one character at the index in the string, and the remaining characters will occur the same number of times. Given a string, determine if it is valid. If so, return YES , otherwise return NO ."
   ]
  },
  {
   "cell_type": "code",
   "execution_count": 1,
   "metadata": {},
   "outputs": [],
   "source": [
    "def is_valid(string):\n",
    "    letter_count_dict = {}      # creating empty dictionary to store letter with its frequency.\n",
    "\n",
    "    for i in string:\n",
    "        if i in letter_count_dict:\n",
    "            letter_count_dict[i] += 1\n",
    "        else:\n",
    "            letter_count_dict[i] = 1\n",
    "\n",
    "    freq_count = set(letter_count_dict.values())        # converting frequency into set.\n",
    "   \n",
    "    if len(freq_count) == 1:\n",
    "        return \"YES\"\n",
    "\n",
    "    elif len(freq_count) == 2:\n",
    "        freq_list = list(letter_count_dict.values())\n",
    "        freq_list.sort()\n",
    "\n",
    "        # Checking if we can remove one letter and make the frequency same.\n",
    "\n",
    "        if freq_list[0] == 1 and freq_list.count(freq_list[0]) == 1:\n",
    "            return \"YES\"\n",
    "            \n",
    "        elif freq_list[-1] - freq_list[-2] == 1 and freq_list.count(freq_list[-1]) == 1:\n",
    "            return \"YES\"\n",
    "    return \"NO\""
   ]
  },
  {
   "cell_type": "code",
   "execution_count": 2,
   "metadata": {},
   "outputs": [
    {
     "data": {
      "text/plain": [
       "'YES'"
      ]
     },
     "execution_count": 2,
     "metadata": {},
     "output_type": "execute_result"
    }
   ],
   "source": [
    "is_valid('abc')"
   ]
  },
  {
   "cell_type": "markdown",
   "metadata": {},
   "source": [
    "- **Explanation** - This is a valid string because frequencies are { “a”: 1, “b”: 1, “c”: 1}"
   ]
  },
  {
   "cell_type": "code",
   "execution_count": 3,
   "metadata": {},
   "outputs": [
    {
     "data": {
      "text/plain": [
       "'NO'"
      ]
     },
     "execution_count": 3,
     "metadata": {},
     "output_type": "execute_result"
    }
   ],
   "source": [
    "is_valid('abccc')"
   ]
  },
  {
   "cell_type": "markdown",
   "metadata": {},
   "source": [
    "- **Explanation** - This string is not valid as we can remove only 1 occurrence of “c”. That leaves character frequencies of { “a”: 1, “b”: 1 , “c”: 2 }"
   ]
  },
  {
   "cell_type": "code",
   "execution_count": 4,
   "metadata": {},
   "outputs": [
    {
     "data": {
      "text/plain": [
       "'YES'"
      ]
     },
     "execution_count": 4,
     "metadata": {},
     "output_type": "execute_result"
    }
   ],
   "source": [
    "is_valid('aabbcc')"
   ]
  },
  {
   "cell_type": "markdown",
   "metadata": {},
   "source": [
    "- **Explanation** - This is a valid string because frequencies are { “a”: 2, “b”: 2, “c”: 2}"
   ]
  },
  {
   "cell_type": "code",
   "execution_count": 5,
   "metadata": {},
   "outputs": [
    {
     "data": {
      "text/plain": [
       "'NO'"
      ]
     },
     "execution_count": 5,
     "metadata": {},
     "output_type": "execute_result"
    }
   ],
   "source": [
    "is_valid('aabbcccc')"
   ]
  },
  {
   "cell_type": "markdown",
   "metadata": {},
   "source": [
    "- **Explanation** - This string is not valid as we can remove only 1 occurrence of “c”. That leaves character frequencies of { “a”: 2, “b”: 2 , “c”: 3 }"
   ]
  }
 ],
 "metadata": {
  "kernelspec": {
   "display_name": "Python 3.10.7 64-bit",
   "language": "python",
   "name": "python3"
  },
  "language_info": {
   "codemirror_mode": {
    "name": "ipython",
    "version": 3
   },
   "file_extension": ".py",
   "mimetype": "text/x-python",
   "name": "python",
   "nbconvert_exporter": "python",
   "pygments_lexer": "ipython3",
   "version": "3.10.7"
  },
  "orig_nbformat": 4,
  "vscode": {
   "interpreter": {
    "hash": "3196968d684371006099b3d55edeef8ed90365227a30deaef86e5d4aa8519be0"
   }
  }
 },
 "nbformat": 4,
 "nbformat_minor": 2
}
