{
 "cells": [
  {
   "cell_type": "markdown",
   "metadata": {},
   "source": [
    "##### Q-5. A certain city has two taxi companies: Company A has 80% of the taxis and Company B has 20% of the taxis. Company A's taxis have a 95% success rate for picking up passengers on time, while Company B's taxis have a 90% success rate. If a randomly selected taxi is late, what is the probability that it belongs to Company A?"
   ]
  },
  {
   "cell_type": "markdown",
   "metadata": {},
   "source": [
    "To calculate the probability that a randomly selected late taxi belongs to Company A, we can use Bayes' theorem. Let's denote the following events:\n",
    "\n",
    "          A: The taxi belongs to Company A.\n",
    "          B: The taxi is late.\n",
    "\n",
    "We need to find P(A|B), which represents the probability that the taxi belongs to Company A given that it is late.\n",
    "\n",
    "According to Bayes' theorem:\n",
    "\n",
    "          P(A|B) = (P(A) * P(B|A)) / P(B)\n",
    "\n",
    " where:\n",
    "\n",
    "     P(A): Probability that a randomly selected taxi belongs to Company A.\n",
    "     P(B|A): Probability that the taxi is late given that it belongs to Company A.\n",
    "     P(B): Probability that the taxi is late.\n",
    "\n",
    "Given the information provided in the question:\n",
    "\n",
    "     P(A) = 0.8 (Company A has 80% of the taxis)\n",
    "     P(B|A) = 0.05 (Company A's taxis have a 95% success rate, so the probability of being late is 1 - 0.95 = 0.05)\n",
    "     P(B) = P(B|A) * P(A) + P(B|B) * P(B) (Law of Total Probability)\n",
    "\n",
    "Let's calculate P(B) first:\n",
    "\n",
    "     P(B) = P(B|A) * P(A) + P(B|B) * P(B)\n",
    "          = 0.05 * 0.8 + 0.1 * 0.2\n",
    "          = 0.04 + 0.02\n",
    "          = 0.06\n",
    "\n",
    "Now, we can calculate P(A|B):\n",
    "\n",
    "     P(A|B) = (P(B|A) * P(A)) / P(B)\n",
    "          = (0.05 * 0.8) / 0.06\n",
    "          = 0.04 / 0.06\n",
    "          = 2/3\n",
    "          ≈ 0.6667\n",
    "\n",
    "Therefore, the probability that a randomly selected late taxi belongs to Company A is approximately 0.6667 or 66.67%."
   ]
  }
 ],
 "metadata": {
  "kernelspec": {
   "display_name": "Python 3.8.5 ('base')",
   "language": "python",
   "name": "python3"
  },
  "language_info": {
   "codemirror_mode": {
    "name": "ipython",
    "version": 3
   },
   "file_extension": ".py",
   "mimetype": "text/x-python",
   "name": "python",
   "nbconvert_exporter": "python",
   "pygments_lexer": "ipython3",
   "version": "3.8.5"
  },
  "orig_nbformat": 4,
  "vscode": {
   "interpreter": {
    "hash": "831c8d92a2d4b33b6bdbd930f80d233dd70f2371e2d79e4c68745108a666f2d5"
   }
  }
 },
 "nbformat": 4,
 "nbformat_minor": 2
}
