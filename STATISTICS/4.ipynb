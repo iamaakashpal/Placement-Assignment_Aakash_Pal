{
 "cells": [
  {
   "cell_type": "markdown",
   "metadata": {},
   "source": [
    "##### Q-4. A group of 20 friends decide to play a game in which they each write a number between 1 and 20 on a slip of paper and put it into a hat. They then draw one slip of paper at random. What is the probability that the number on the slip of paper is a perfect square (i.e., 1, 4, 9, or 16)?"
   ]
  },
  {
   "cell_type": "markdown",
   "metadata": {},
   "source": [
    "- To calculate the probability that the number on the slip of paper is a perfect square, we need to determine the number of favorable outcomes (slips of paper with perfect square numbers) and the total number of possible outcomes (slips of paper with any number between 1 and 20).\n",
    "\n",
    "- There are four perfect square numbers between 1 and 20: 1, 4, 9, and 16.\n",
    "\n",
    "- The total number of possible outcomes is 20, as there are 20 slips of paper in the hat.\n",
    "\n",
    "- Therefore, the probability of drawing a slip of paper with a perfect square number is:\n",
    "\n",
    "        Number of favorable outcomes           4         1\n",
    "        ---------------------------------- = ----- =   -----\n",
    "        Total number of possible outcomes      20        5\n",
    "\n",
    "\n",
    "- So, the probability is 1/5 or 0.2, which can also be expressed as 20%."
   ]
  }
 ],
 "metadata": {
  "kernelspec": {
   "display_name": "Python 3.8.5 ('base')",
   "language": "python",
   "name": "python3"
  },
  "language_info": {
   "codemirror_mode": {
    "name": "ipython",
    "version": 3
   },
   "file_extension": ".py",
   "mimetype": "text/x-python",
   "name": "python",
   "nbconvert_exporter": "python",
   "pygments_lexer": "ipython3",
   "version": "3.8.5"
  },
  "orig_nbformat": 4,
  "vscode": {
   "interpreter": {
    "hash": "831c8d92a2d4b33b6bdbd930f80d233dd70f2371e2d79e4c68745108a666f2d5"
   }
  }
 },
 "nbformat": 4,
 "nbformat_minor": 2
}
