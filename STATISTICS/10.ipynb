{
 "cells": [
  {
   "cell_type": "markdown",
   "metadata": {},
   "source": [
    "10.A factory produces light bulbs, and the probability of a bulb being defective is 0.05.\n",
    "\n",
    "    The factory produces a large batch of 500 light bulbs.\n",
    "    a. What is the probability that exactly 20 bulbs are defective?\n",
    "    b. What is the probability that at least 10 bulbs are defective?\n",
    "    c. What is the probability that at max 15 bulbs are defective?\n",
    "    d. On average, how many defective bulbs would you expect in a batch of 500?"
   ]
  },
  {
   "cell_type": "code",
   "execution_count": 1,
   "metadata": {},
   "outputs": [],
   "source": [
    "# Importing required packages\n",
    "\n",
    "import pandas as pd\n",
    "import numpy as np\n",
    "import matplotlib.pyplot as plt\n",
    "import seaborn as sns\n",
    "import scipy.stats as stats\n",
    "import math\n",
    "from scipy.stats import binom"
   ]
  },
  {
   "cell_type": "code",
   "execution_count": 2,
   "metadata": {},
   "outputs": [],
   "source": [
    "n = 500\n",
    "p = 0.05\n",
    "q = 1 - p"
   ]
  },
  {
   "cell_type": "markdown",
   "metadata": {},
   "source": [
    "-   a. What is the probability that exactly 20 bulbs are defective?"
   ]
  },
  {
   "cell_type": "code",
   "execution_count": 3,
   "metadata": {},
   "outputs": [
    {
     "name": "stdout",
     "output_type": "stream",
     "text": [
      "Probability of exactly 20 bulbs being defective: 0.051616192536641056\n"
     ]
    }
   ],
   "source": [
    "x_1 = 20\n",
    "p_1 = binom.pmf(x_1, n, p)\n",
    "print(\"Probability of exactly 20 bulbs being defective:\", p_1)"
   ]
  },
  {
   "cell_type": "markdown",
   "metadata": {},
   "source": [
    "-  b. What is the probability that at least 10 bulbs are defective?"
   ]
  },
  {
   "cell_type": "code",
   "execution_count": 4,
   "metadata": {},
   "outputs": [],
   "source": [
    "x_2 = 9\n",
    "p_2 = 1 - binom.cdf(x_2, n, p)"
   ]
  },
  {
   "cell_type": "code",
   "execution_count": 5,
   "metadata": {},
   "outputs": [
    {
     "name": "stdout",
     "output_type": "stream",
     "text": [
      "Probability of at least 10 bulbs being defective: 0.9998316463654902\n"
     ]
    }
   ],
   "source": [
    "print(\"Probability of at least 10 bulbs being defective:\", p_2)"
   ]
  },
  {
   "cell_type": "markdown",
   "metadata": {},
   "source": [
    "- c. What is the probability that at max 15 bulbs are defective?"
   ]
  },
  {
   "cell_type": "code",
   "execution_count": 6,
   "metadata": {},
   "outputs": [],
   "source": [
    "x_3 = 15\n",
    "p_3 = binom.cdf(x_3, n, p)"
   ]
  },
  {
   "cell_type": "code",
   "execution_count": 7,
   "metadata": {},
   "outputs": [
    {
     "name": "stdout",
     "output_type": "stream",
     "text": [
      "Probability that at max 15 bulbs are defective: 0.01985837716300661\n"
     ]
    }
   ],
   "source": [
    "print(\"Probability that at max 15 bulbs are defective:\", p_3)"
   ]
  },
  {
   "cell_type": "markdown",
   "metadata": {},
   "source": [
    "- d. On average, how many defective bulbs would you expect in a batch of 500?"
   ]
  },
  {
   "cell_type": "code",
   "execution_count": 8,
   "metadata": {},
   "outputs": [
    {
     "name": "stdout",
     "output_type": "stream",
     "text": [
      "Average number of defective bulbs: 25.0\n"
     ]
    }
   ],
   "source": [
    "avg_defective = n * p\n",
    "print(\"Average number of defective bulbs:\", avg_defective)"
   ]
  }
 ],
 "metadata": {
  "kernelspec": {
   "display_name": "Python 3.8.5 ('base')",
   "language": "python",
   "name": "python3"
  },
  "language_info": {
   "codemirror_mode": {
    "name": "ipython",
    "version": 3
   },
   "file_extension": ".py",
   "mimetype": "text/x-python",
   "name": "python",
   "nbconvert_exporter": "python",
   "pygments_lexer": "ipython3",
   "version": "3.8.5"
  },
  "orig_nbformat": 4,
  "vscode": {
   "interpreter": {
    "hash": "831c8d92a2d4b33b6bdbd930f80d233dd70f2371e2d79e4c68745108a666f2d5"
   }
  }
 },
 "nbformat": 4,
 "nbformat_minor": 2
}
