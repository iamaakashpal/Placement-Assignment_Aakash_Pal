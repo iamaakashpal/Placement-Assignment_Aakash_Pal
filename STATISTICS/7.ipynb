{
 "cells": [
  {
   "cell_type": "markdown",
   "metadata": {},
   "source": [
    "    Q-7. The equations of two lines of regression, obtained in a correlation analysis between variables X and Y are as follows:\n",
    "    and . 2𝑋 + 3 − 8 = 0 2𝑌 + 𝑋 − 5 = 0 The variance of 𝑋 = 4 Find the\n",
    "    a. Variance of Y\n",
    "    b. Coefficient of determination of C and Y\n",
    "    c. Standard error of estimate of X on Y and of Y on X."
   ]
  },
  {
   "cell_type": "markdown",
   "metadata": {},
   "source": [
    "To find the variance of Y, we need to determine the variance of X and use the equations of the regression lines.\n",
    "\n",
    "Given variance of X = 4, we know that Var(X) = 4.\n",
    "\n",
    "a. Variance of Y:\n",
    "\n",
    "To calculate the variance of Y, we can use the equation of the regression line for Y, which is 2Y + X - 5 = 0.\n",
    "\n",
    "Rearranging the equation, we get: 2Y = -X + 5\n",
    "\n",
    "Since X has a known variance of 4, we can substitute this value into the equation to calculate the variance of Y:\n",
    "\n",
    "       Var(Y) = Var((-X + 5) / 2)\n",
    "              = Var(-X/2 + 5/2)\n",
    "              = (1/4) * Var(X) \n",
    "              = (1/4) * 4\n",
    "              = 1\n",
    "\n",
    "Therefore, the variance of Y is 1."
   ]
  },
  {
   "cell_type": "markdown",
   "metadata": {},
   "source": [
    "b. Coefficient of determination of C and Y:\n",
    "\n",
    "The coefficient of determination (R^2) measures the proportion of the total variation in the dependent variable (Y) that can be explained by the independent variable (X). In this case, the equation for Y is 2Y + X - 5 = 0.\n",
    "\n",
    "To calculate R^2, we need to determine the squared correlation coefficient (r^2), which can be derived from the slope of the regression line.\n",
    "\n",
    "The slope of the regression line for Y can be obtained by rearranging the equation:\n",
    "\n",
    "    2Y = -X + 5\n",
    "    Y = (-1/2)X + (5/2)\n",
    "\n",
    "Comparing this equation to the standard form of a line (Y = MX + C), we can see that the slope (M) is (-1/2).\n",
    "\n",
    "The coefficient of determination (R^2) is equal to the square of the correlation coefficient (r), which is equal to the square of the slope (M) in this case.\n",
    "\n",
    "Therefore, the coefficient of determination for X and Y is R^2 = (-1/2)^2 = 1/4."
   ]
  },
  {
   "cell_type": "markdown",
   "metadata": {},
   "source": [
    "c. Standard error of estimate of X on Y and Y on X:\n",
    "\n",
    "The standard error of estimate measures the average distance between the observed values and the predicted values of the dependent variable (Y) based on the regression line.\n",
    "\n",
    "To calculate the standard error of estimate of X on Y, we need to consider the equation of the regression line for X, which is 2X + 3 - 8 = 0.\n",
    "\n",
    "The standard error of estimate of X on Y can be calculated as the square root of the mean squared error (MSE), which is derived from the residuals (differences between observed and predicted values) of the regression line for X.\n",
    "\n",
    "Since the variance of X is given as 4, we can find the MSE as follows:\n",
    "\n",
    "    MSE = Var(X) * (1 - R^2)\n",
    "    = 4 * (1 - 1/4)\n",
    "    = 4 * (3/4)\n",
    "    = 3\n",
    "\n",
    "The standard error of estimate of X on Y is the square root of the MSE:\n",
    "Standard error of estimate of X on Y = sqrt(3)\n",
    "\n",
    "To calculate the standard error of estimate of Y on X, we need to consider the equation of the regression line for Y, which is 2Y + X - 5 = 0.\n",
    "\n",
    "Similarly, we can find the MSE using the given variance of Y, which is 1:\n",
    "\n",
    "    MSE = Var(Y) * (1 - R^2)\n",
    "    = 1 * (1 - 1/4)\n",
    "    = 1 * (3/4)\n",
    "    = 3/4\n",
    "\n",
    "The standard error of estimate of Y on X is the square root of the MSE:\n",
    "Standard error of estimate of Y on X = sqrt(3/4)\n",
    "\n",
    "Therefore, the variance of Y is 1, the coefficient of determination for X and Y is 1/4, the standard error of estimate of X on Y is sqrt(3), and the standard error of estimate of Y on X is sqrt(3/4)."
   ]
  }
 ],
 "metadata": {
  "kernelspec": {
   "display_name": "Python 3.8.5 ('base')",
   "language": "python",
   "name": "python3"
  },
  "language_info": {
   "name": "python",
   "version": "3.8.5"
  },
  "orig_nbformat": 4,
  "vscode": {
   "interpreter": {
    "hash": "831c8d92a2d4b33b6bdbd930f80d233dd70f2371e2d79e4c68745108a666f2d5"
   }
  }
 },
 "nbformat": 4,
 "nbformat_minor": 2
}
