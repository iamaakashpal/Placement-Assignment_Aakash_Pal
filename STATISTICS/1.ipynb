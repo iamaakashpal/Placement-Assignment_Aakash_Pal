{
 "cells": [
  {
   "cell_type": "markdown",
   "metadata": {},
   "source": [
    "##### Q-1. A university wants to understand the relationship between the SAT scores of its applicants and their college GPA. They collect data on 500 students, including their SAT scores (out of 1600) and their college GPA (on a 4.0 scale). They find that the correlation coefficient between SAT scores and college GPA is 0.7. What does this correlation coefficient indicate about the relationship between SAT scores and college GPA?\n"
   ]
  },
  {
   "cell_type": "markdown",
   "metadata": {},
   "source": [
    "- The correlation coefficient of 0.7 indicates a strong positive relationship between SAT scores and college GPA.\n",
    "\n",
    "- A correlation coefficient measures the strength and direction of the linear relationship between two variables. It ranges from -1 to +1. In this case, a correlation coefficient of 0.7 indicates a strong positive correlation, meaning that as SAT scores increase, college GPA tends to increase as well.\n",
    "\n",
    "- The positive sign of the correlation coefficient indicates that there is a positive linear relationship. This means that as SAT scores increase, there is a tendency for college GPA to also increase. However, it's important to note that correlation does not imply causation. While there is a strong correlation between SAT scores and college GPA, it does not necessarily mean that higher SAT scores cause higher college GPAs or vice versa. Other factors and variables could also contribute to a student's academic performance."
   ]
  }
 ],
 "metadata": {
  "kernelspec": {
   "display_name": "Python 3.8.5 ('base')",
   "language": "python",
   "name": "python3"
  },
  "language_info": {
   "codemirror_mode": {
    "name": "ipython",
    "version": 3
   },
   "file_extension": ".py",
   "mimetype": "text/x-python",
   "name": "python",
   "nbconvert_exporter": "python",
   "pygments_lexer": "ipython3",
   "version": "3.8.5"
  },
  "orig_nbformat": 4,
  "vscode": {
   "interpreter": {
    "hash": "831c8d92a2d4b33b6bdbd930f80d233dd70f2371e2d79e4c68745108a666f2d5"
   }
  }
 },
 "nbformat": 4,
 "nbformat_minor": 2
}
