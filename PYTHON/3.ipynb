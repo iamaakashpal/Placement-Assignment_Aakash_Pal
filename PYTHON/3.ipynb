{
 "cells": [
  {
   "cell_type": "markdown",
   "metadata": {},
   "source": [
    "##### 3. Write a program, which would download the data from the provided link, and then read the data and convert that into properly structured data and return it in Excel format."
   ]
  },
  {
   "cell_type": "code",
   "execution_count": 1,
   "metadata": {},
   "outputs": [],
   "source": [
    "# Installing required packages\n",
    "\n",
    "import requests\n",
    "import json\n",
    "import pandas as pd"
   ]
  },
  {
   "cell_type": "code",
   "execution_count": 2,
   "metadata": {},
   "outputs": [
    {
     "name": "stderr",
     "output_type": "stream",
     "text": [
      "<ipython-input-2-8c5492e19170>:50: UserWarning: Pandas requires version '1.4.3' or newer of 'xlsxwriter' (version '1.3.7' currently installed).\n",
      "  df.to_excel('pokemon.xlsx', index=False)\n"
     ]
    },
    {
     "name": "stdout",
     "output_type": "stream",
     "text": [
      "Data save successfully...👍\n"
     ]
    }
   ],
   "source": [
    "def download_data(url):     # Downloading the data from the provided url.\n",
    "\n",
    "    try:\n",
    "        response = requests.get(url)\n",
    "        response.raise_for_status()\n",
    "    except requests.exceptions.HTTPError as error:\n",
    "        print(f\"HTTP error occurred: {error}\")\n",
    "        return\n",
    "    except requests.exceptions.RequestException as error:\n",
    "        print(f\"An error occurred: {error}\")\n",
    "        return\n",
    "    \n",
    "    raw_data = response.json()\n",
    "\n",
    "    # Extracting the required data from the raw data.\n",
    "\n",
    "    data = []\n",
    "    for pk in raw_data['pokemon']:\n",
    "        json_data = {\n",
    "            'id': pk['id'],\n",
    "            'num': pk['num'],\n",
    "            'name': pk['name'],\n",
    "            'img': pk['img'],\n",
    "            'type': \", \".join(pk['type']),\n",
    "            'height': pk['height'],\n",
    "            'weight': pk['weight'],\n",
    "            'candy': pk.get('candy', \"\"),\n",
    "            'candy_count': pk.get('candy_count', \"\"),\n",
    "            'egg': pk.get('egg', \"\"),\n",
    "            'spawn_chance': pk.get('spawn_chance', \"\"),\n",
    "            'avg_spawns': pk.get('avg_spawns', \"\"),\n",
    "            'spawn_time': pk.get('spawn_time', \"\"),\n",
    "            'weakness': \", \".join(pk['weaknesses']),\n",
    "            'next_evolution': [evolution['name'] for evolution in pk.get('next_evolution', [])],\n",
    "            'prev_evolution': [evolution['name'] for evolution in pk.get('prev_evolution', [])]\n",
    "        }\n",
    "        data.append(json_data)\n",
    "\n",
    "    # Converting the extracted data into a DataFrame.\n",
    "\n",
    "    try:\n",
    "        df = pd.DataFrame(data)\n",
    "    except ValueError as error:\n",
    "        print(f\"ValueError occurred: {error}\")\n",
    "        \n",
    "    \n",
    "    # Saving the DataFrame to Excel format\n",
    "    \n",
    "    try:\n",
    "        df.to_excel('pokemon.xlsx', index=False)\n",
    "    except Exception as error:\n",
    "        print(f\"An error occurred while saving the file: {error}\")\n",
    "        \n",
    "\n",
    "    print(\"Data save successfully...👍\")\n",
    "\n",
    "# Providing url for the data.\n",
    "\n",
    "url = 'https://raw.githubusercontent.com/Biuni/PokemonGO-Pokedex/master/pokedex.json'\n",
    "\n",
    "# Testing our function\n",
    "download_data(url) "
   ]
  }
 ],
 "metadata": {
  "kernelspec": {
   "display_name": "Python 3.8.5 ('base')",
   "language": "python",
   "name": "python3"
  },
  "language_info": {
   "codemirror_mode": {
    "name": "ipython",
    "version": 3
   },
   "file_extension": ".py",
   "mimetype": "text/x-python",
   "name": "python",
   "nbconvert_exporter": "python",
   "pygments_lexer": "ipython3",
   "version": "3.8.5"
  },
  "orig_nbformat": 4,
  "vscode": {
   "interpreter": {
    "hash": "831c8d92a2d4b33b6bdbd930f80d233dd70f2371e2d79e4c68745108a666f2d5"
   }
  }
 },
 "nbformat": 4,
 "nbformat_minor": 2
}
