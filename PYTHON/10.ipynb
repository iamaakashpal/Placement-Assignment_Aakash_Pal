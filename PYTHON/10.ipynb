{
 "cells": [
  {
   "cell_type": "markdown",
   "metadata": {},
   "source": [
    "##### 10. Write a program to count the number of verbs, nouns, pronouns, and adjectives in a given particular phrase or paragraph, and return their respective count as a dictionary.\n",
    "\n",
    "    Note -\n",
    "\n",
    "    1. Write code comments wherever required for code\n",
    "    \n",
    "    2. You have to write at least 2 additional test cases in which your program will run successfully and provide an explanation for the same"
   ]
  },
  {
   "cell_type": "code",
   "execution_count": 1,
   "metadata": {},
   "outputs": [],
   "source": [
    "# Installing required packages\n",
    "\n",
    "import pandas as pd\n",
    "import seaborn as sns\n",
    "import numpy as np\n",
    "import matplotlib.pyplot as plt\n",
    "import nltk\n",
    "from nltk import pos_tag\n",
    "from collections import defaultdict"
   ]
  },
  {
   "cell_type": "code",
   "execution_count": 2,
   "metadata": {},
   "outputs": [],
   "source": [
    "def count_words(text):\n",
    "    words = nltk.word_tokenize(text)    # Tokenize the text into individual words\n",
    "    tagged_words = pos_tag(words)   # Tag each word with its part-of-speech (POS)\n",
    "    counts = defaultdict(int)   # Create a dictionary to store the count of each POS tag\n",
    "    \n",
    "    for i, tag in tagged_words:\n",
    "        if tag.startswith('VB'): \n",
    "            counts['Verbs'] += 1\n",
    "        elif tag.startswith('NN'):   \n",
    "            counts['Nouns'] += 1\n",
    "        elif tag.startswith('PRP'):   \n",
    "            counts['Pronouns'] += 1\n",
    "        elif tag.startswith('JJ'):   \n",
    "            counts['Adjectives'] += 1\n",
    "    return counts"
   ]
  },
  {
   "cell_type": "code",
   "execution_count": 3,
   "metadata": {},
   "outputs": [
    {
     "data": {
      "text/plain": [
       "defaultdict(int, {'Nouns': 4, 'Verbs': 1})"
      ]
     },
     "execution_count": 3,
     "metadata": {},
     "output_type": "execute_result"
    }
   ],
   "source": [
    "str = \"Write code comments wherever required for code\"\n",
    "counts = count_words(str)\n",
    "counts"
   ]
  },
  {
   "cell_type": "code",
   "execution_count": 4,
   "metadata": {},
   "outputs": [
    {
     "data": {
      "text/plain": [
       "defaultdict(int, {'Pronouns': 2, 'Verbs': 4, 'Adjectives': 3, 'Nouns': 4})"
      ]
     },
     "execution_count": 4,
     "metadata": {},
     "output_type": "execute_result"
    }
   ],
   "source": [
    "str = \"You have to write at least 2 additional test cases in which your program will run successfully and provide an explanation for the same\"\n",
    "counts = count_words(str)\n",
    "counts"
   ]
  },
  {
   "cell_type": "markdown",
   "metadata": {},
   "source": [
    "- The program uses the Natural Language Toolkit (NLTK) library to tokenize the text into words and tag each word with its corresponding part-of-speech (POS). It then iterates through the tagged words and increments the count for each POS category. Finally, it returns a dictionary containing the counts of verbs, nouns, pronouns, and adjectives."
   ]
  }
 ],
 "metadata": {
  "kernelspec": {
   "display_name": "Python 3.8.5 ('base')",
   "language": "python",
   "name": "python3"
  },
  "language_info": {
   "codemirror_mode": {
    "name": "ipython",
    "version": 3
   },
   "file_extension": ".py",
   "mimetype": "text/x-python",
   "name": "python",
   "nbconvert_exporter": "python",
   "pygments_lexer": "ipython3",
   "version": "3.8.5"
  },
  "orig_nbformat": 4,
  "vscode": {
   "interpreter": {
    "hash": "831c8d92a2d4b33b6bdbd930f80d233dd70f2371e2d79e4c68745108a666f2d5"
   }
  }
 },
 "nbformat": 4,
 "nbformat_minor": 2
}
